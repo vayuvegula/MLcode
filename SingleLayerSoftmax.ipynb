{
 "cells": [
  {
   "cell_type": "code",
   "execution_count": 18,
   "metadata": {
    "collapsed": true
   },
   "outputs": [],
   "source": [
    "#The design of the process is as follows:\n",
    "# 1.Preprocess the data ie correct-->normalize-->transform-->reshape to proper dimensions-->split data trn/val/test\n",
    "# 2.Specify the model-->build model-->check dimensions\n",
    "# 3.Loss function\n",
    "# 4.gradient descent, check using numerical gradient\n",
    "# 5.run loop to minimize the loss-->chk model by using right measurement metrics\n",
    "# 6.Update hyperparameters -->Test on test"
   ]
  },
  {
   "cell_type": "code",
   "execution_count": 19,
   "metadata": {
    "collapsed": true
   },
   "outputs": [],
   "source": [
    "#loading the required libraries\n",
    "import numpy as np\n",
    "import pandas as pd\n",
    "import matplotlib.pyplot as plt\n",
    "from sklearn import datasets"
   ]
  },
  {
   "cell_type": "code",
   "execution_count": 20,
   "metadata": {
    "collapsed": true
   },
   "outputs": [],
   "source": [
    "#Preprocessing data -- loading data\n",
    "digits = datasets.load_digits()\n",
    "X_data = digits.data\n",
    "Y_data = digits.target"
   ]
  },
  {
   "cell_type": "code",
   "execution_count": 21,
   "metadata": {
    "collapsed": true
   },
   "outputs": [],
   "source": [
    "#Preprocessing data -- Split the data into train and test\n",
    "from sklearn.model_selection import StratifiedShuffleSplit\n",
    "split = StratifiedShuffleSplit(n_splits=1,test_size=0.1,random_state=42)\n",
    "for train_index,test_index in split.split(X_data,Y_data):\n",
    "    X_train = X_data[train_index].T\n",
    "    X_test = X_data[test_index].T\n",
    "    Y_train = Y_data[train_index].T.reshape((-1,1))#reshaping to a vector\n",
    "    Y_test = Y_data[test_index].T.reshape((-1,1))\n",
    "\n",
    "#Preprocessing data -- Hotonecoding the Y to be able to use softmax function loss\n",
    "from sklearn import preprocessing\n",
    "lb = preprocessing.LabelBinarizer()\n",
    "Y_train = lb.fit_transform(Y_train).T\n",
    "Y_test = lb.fit_transform(Y_test).T"
   ]
  },
  {
   "cell_type": "code",
   "execution_count": 45,
   "metadata": {
    "collapsed": true
   },
   "outputs": [],
   "source": [
    "#Setting up the model specifics\n",
    "#creating a softmax model only\n",
    "#logits = WX+B\n",
    "#softmax = exp(logits)/sum(exp(logits))\n",
    "#loss = (ylog(yhat)) +(1-y)log(1-yhat)\n",
    "\n",
    "#creating helper functions\n",
    "\n",
    "def linear_fn(W,X,b):\n",
    "    logits = np.dot(W,X)+b\n",
    "    return logits\n",
    "\n",
    "def softmax_fn(Z):\n",
    "    smax = np.exp(Z)/np.sum(np.exp(Z),axis=0)\n",
    "    return smax\n",
    "\n",
    "#initialize parameters and variables\n",
    "learning_rate = 0.01\n",
    "m = X_train.shape[1]\n",
    "iterations = 3000\n",
    "\n",
    "W = np.random.randn(10,64)*0.1\n",
    "b = np.zeros((10,1))\n",
    "\n",
    "costs = []\n",
    "accuracys = []\n",
    "for i in range(0,iterations):\n",
    "#Forward pass to calculate model and cost\n",
    "    logits = linear_fn(W,X_train,b)\n",
    "    softmax = softmax_fn(logits)\n",
    "\n",
    "    loss = (Y_train*np.log(softmax)+(1-Y_train)*(np.log(1-softmax)))\n",
    "    cost = (-1.0/m)*(np.sum(loss,keepdims=True))\n",
    "\n",
    "#backpass\n",
    "    dW = (1.0/m)*np.dot((softmax-Y_train),(X_train.T))\n",
    "    db = (1.0/m)*np.sum((softmax - Y_train),axis=1).reshape(10,1)\n",
    "    W = W -learning_rate*dW\n",
    "    b = b -learning_rate*db\n",
    "    costs.append(cost)\n",
    "#predictions\n",
    "    prediction = np.dot(W,X_test)+b\n",
    "    pred_softmax = np.exp(prediction)/np.sum(np.exp(prediction),axis=0)\n",
    "    pred_index=np.argmax(pred_softmax,axis=0).reshape(-1,1)\n",
    "    Y_test_index = np.argmax(Y_test,axis=0).reshape(-1,1)\n",
    "    accuracy = sum(np.equal(pred_index,Y_test_index))/(X_test.shape[1]*1.)\n",
    "    accuracys.append(accuracy)"
   ]
  },
  {
   "cell_type": "code",
   "execution_count": 46,
   "metadata": {},
   "outputs": [
    {
     "data": {
      "image/png": "[encoded data removed]",
      "text/plain": [
       "<matplotlib.figure.Figure at 0x11bb61450>"
      ]
     },
     "metadata": {},
     "output_type": "display_data"
    },
    {
     "data": {
      "image/png": "[encoded data removed]",
      "text/plain": [
       "<matplotlib.figure.Figure at 0x11a94eb50>"
      ]
     },
     "metadata": {},
     "output_type": "display_data"
    }
   ],
   "source": [
    "#Plotting the loss \n",
    "plt.plot(np.array(costs).reshape(-1,1))\n",
    "plt.show()\n",
    "#Plotting the accuracy\n",
    "plt.plot(np.array(accuracys).reshape(-1,1))\n",
    "plt.show()\n"
   ]
  },
  {
   "cell_type": "code",
   "execution_count": 47,
   "metadata": {},
   "outputs": [
    {
     "data": {
      "image/png": "[encoded data removed]",
      "text/plain": [
       "<matplotlib.figure.Figure at 0x11b30fad0>"
      ]
     },
     "metadata": {},
     "output_type": "display_data"
    }
   ],
   "source": [
    "#Visualizing the parameters in the last layer\n",
    "fig,arr = plt.subplots(2,5)\n",
    "arr[0,0].matshow(W[0].reshape(8,8))\n",
    "arr[0,1].matshow(W[1].reshape(8,8))\n",
    "arr[0,2].matshow(W[2].reshape(8,8))\n",
    "arr[0,3].matshow(W[3].reshape(8,8))\n",
    "arr[0,4].matshow(W[4].reshape(8,8))\n",
    "arr[1,0].matshow(W[5].reshape(8,8))\n",
    "arr[1,1].matshow(W[6].reshape(8,8))\n",
    "arr[1,2].matshow(W[7].reshape(8,8))\n",
    "arr[1,3].matshow(W[8].reshape(8,8))\n",
    "arr[1,4].matshow(W[9].reshape(8,8))\n",
    "plt.show()"
   ]
  },
  {
   "cell_type": "code",
   "execution_count": 70,
   "metadata": {
    "collapsed": true
   },
   "outputs": [],
   "source": []
  },
  {
   "cell_type": "code",
   "execution_count": null,
   "metadata": {
    "collapsed": true
   },
   "outputs": [],
   "source": []
  }
 ],
 "metadata": {
  "kernelspec": {
   "display_name": "Python 2",
   "language": "python",
   "name": "python2"
  },
  "language_info": {
   "codemirror_mode": {
    "name": "ipython",
    "version": 2
   },
   "file_extension": ".py",
   "mimetype": "text/x-python",
   "name": "python",
   "nbconvert_exporter": "python",
   "pygments_lexer": "ipython2",
   "version": "2.7.13"
  }
 },
 "nbformat": 4,
 "nbformat_minor": 2
}
