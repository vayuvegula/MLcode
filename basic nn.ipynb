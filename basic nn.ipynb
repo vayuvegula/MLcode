{
 "cells": [
  {
   "cell_type": "code",
   "execution_count": 82,
   "metadata": {
    "collapsed": true
   },
   "outputs": [],
   "source": [
    "#loading the required libraries\n",
    "import numpy as np\n",
    "import pandas as pd\n",
    "import matplotlib.pyplot as plt\n",
    "from sklearn import datasets\n",
    "import helperfunction as h\n",
    "from matplotlib import gridspec"
   ]
  },
  {
   "cell_type": "code",
   "execution_count": 83,
   "metadata": {
    "collapsed": true
   },
   "outputs": [],
   "source": [
    "#creating a simple 2 layer binary o/p NN\n",
    "#linear-->relu-->sigmoid"
   ]
  },
  {
   "cell_type": "code",
   "execution_count": 84,
   "metadata": {
    "collapsed": true
   },
   "outputs": [],
   "source": [
    "#importing the data and preprocessing it\n",
    "#Preprocessing data -- loading data\n",
    "digits = datasets.load_digits()\n",
    "X_data = digits.data\n",
    "Y_data = digits.target\n",
    "\n",
    "#Preprocessing data -- Split the data into train and test\n",
    "from sklearn.model_selection import StratifiedShuffleSplit\n",
    "split = StratifiedShuffleSplit(n_splits=1,test_size=0.1,random_state=42)\n",
    "for train_index,test_index in split.split(X_data,Y_data):\n",
    "    X_train = X_data[train_index].T\n",
    "    X_test = X_data[test_index].T\n",
    "    Y_train = Y_data[train_index].T.reshape((-1,1))#reshaping to a vector\n",
    "    Y_test = Y_data[test_index].T.reshape((-1,1))\n",
    "\n",
    "#Preprocessing data -- Hotonecoding the Y to be able to use softmax function loss\n",
    "from sklearn import preprocessing\n",
    "lb = preprocessing.LabelBinarizer()\n",
    "Y_train = lb.fit_transform(Y_train).T\n",
    "Y_test = lb.fit_transform(Y_test).T"
   ]
  },
  {
   "cell_type": "code",
   "execution_count": 85,
   "metadata": {},
   "outputs": [],
   "source": [
    "#creating the layers , L1-->3 and L2-->1 node and initializations\n",
    "np.random.seed(42)\n",
    "W1 = np.random.randn(20,64)*0.1\n",
    "b1 = np.zeros((20,1))\n",
    "\n",
    "W2 = np.random.randn(10,20)*0.1\n",
    "b2 = np.zeros((10,1))\n",
    "\n",
    "\n",
    "\n"
   ]
  },
  {
   "cell_type": "code",
   "execution_count": 86,
   "metadata": {},
   "outputs": [],
   "source": [
    "#loss and cost function\n",
    "m = X_train.shape[1]\n",
    "learning_rate = 0.001\n",
    "iterations_min = 100\n",
    "iterations_max = 10000\n",
    "lamb = 0.1\n",
    "accuracys = []\n",
    "    \n",
    "costs = []\n",
    "for i in range(iterations_min,iterations_max,20):\n",
    "#calculating the linear functions:\n",
    "    Z1 = h.linear_fn (W1,X_train,b1)\n",
    "    A1 = h.relu(Z1)\n",
    "\n",
    "    Z2 = h.linear_fn(W2,A1,b2)\n",
    "    A2 = h.softmax_fn(Z2)\n",
    "    loss = Y_train*np.log(A2) + (1-Y_train)*np.log(1-A2)\n",
    "    cost = -(1.0/m)*np.sum(loss,keepdims=True)\n",
    "\n",
    "# #backpass\n",
    "    dz2 = (1.0/m)*(A2-Y_train)\n",
    "    dW2 = (1.0/m)*np.dot(dz2,A1.T)\n",
    "    db2 = (1.0/m)*np.sum(dz2,axis=1,keepdims=True).reshape(10,1)\n",
    "    W2 = W2 -learning_rate*dW2\n",
    "    b2 = b2 -learning_rate*db2\n",
    "\n",
    "    da1 = np.dot(W2.T, dz2)\n",
    "    dz1 = np.multiply(da1, np.int64(A1 > 0))\n",
    "    dW1 = np.dot(dz1, X_train.T)\n",
    "    db1 = np.sum(dz1, axis=1, keepdims = True).reshape(20,1)\n",
    "    W1 = W1 -learning_rate*dW1\n",
    "    b1 = b1 -learning_rate*db1\n",
    "    costs.append(cost)\n",
    "    #predictions\n",
    "    #calculating the linear functions:\n",
    "    Z1_pred = h.linear_fn (W1,X_test,b1)\n",
    "    A1_pred = h.relu(Z1_pred)\n",
    "\n",
    "    Z2_pred = h.linear_fn(W2,A1_pred,b2)\n",
    "    A2_pred = h.softmax_fn(Z2_pred)\n",
    "\n",
    "    #calculating accuracies\n",
    "    pred_index=np.argmax(A2_pred,axis=0).reshape(-1,1)\n",
    "    Y_test_index = np.argmax(Y_test,axis=0).reshape(-1,1)\n",
    "    accuracy = sum(np.equal(pred_index,Y_test_index))/(A2_pred.shape[1]*1.0)\n",
    "    accuracys.append(accuracy)\n",
    "# costs\n",
    "# accuracys\n"
   ]
  },
  {
   "cell_type": "code",
   "execution_count": 87,
   "metadata": {},
   "outputs": [
    {
     "data": {
      "image/png": "[encoded data removed]",
      "text/plain": [
       "<matplotlib.figure.Figure at 0x11c108910>"
      ]
     },
     "metadata": {},
     "output_type": "display_data"
    },
    {
     "data": {
      "image/png": "[encoded data removed]",
      "text/plain": [
       "<matplotlib.figure.Figure at 0x11d926a50>"
      ]
     },
     "metadata": {},
     "output_type": "display_data"
    }
   ],
   "source": [
    "\n",
    "plt.plot(np.array(costs).reshape(-1,1))\n",
    "plt.show()\n",
    "\n",
    "plt.plot(np.array(accuracys).reshape(-1,1))\n",
    "plt.show()"
   ]
  },
  {
   "cell_type": "code",
   "execution_count": null,
   "metadata": {
    "collapsed": true
   },
   "outputs": [],
   "source": []
  }
 ],
 "metadata": {
  "kernelspec": {
   "display_name": "Python 2",
   "language": "python",
   "name": "python2"
  },
  "language_info": {
   "codemirror_mode": {
    "name": "ipython",
    "version": 2
   },
   "file_extension": ".py",
   "mimetype": "text/x-python",
   "name": "python",
   "nbconvert_exporter": "python",
   "pygments_lexer": "ipython2",
   "version": "2.7.13"
  }
 },
 "nbformat": 4,
 "nbformat_minor": 2
}
